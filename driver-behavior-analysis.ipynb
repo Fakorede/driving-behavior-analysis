{
 "cells": [
  {
   "cell_type": "markdown",
   "id": "a026528b",
   "metadata": {},
   "source": [
    "# Import the libraries"
   ]
  },
  {
   "cell_type": "code",
   "execution_count": 1,
   "id": "f52c26e6",
   "metadata": {},
   "outputs": [],
   "source": [
    "import numpy as np\n",
    "import matplotlib.pyplot as plt\n",
    "import pandas as pd"
   ]
  },
  {
   "cell_type": "markdown",
   "id": "55245fde",
   "metadata": {},
   "source": [
    "# Import the dataset"
   ]
  },
  {
   "cell_type": "code",
   "execution_count": 2,
   "id": "b4888828",
   "metadata": {},
   "outputs": [],
   "source": [
    "df = pd.read_csv('dataset.csv', low_memory=False)"
   ]
  },
  {
   "cell_type": "code",
   "execution_count": 3,
   "id": "ad3090cc",
   "metadata": {},
   "outputs": [
    {
     "data": {
      "text/html": [
       "<div>\n",
       "<style scoped>\n",
       "    .dataframe tbody tr th:only-of-type {\n",
       "        vertical-align: middle;\n",
       "    }\n",
       "\n",
       "    .dataframe tbody tr th {\n",
       "        vertical-align: top;\n",
       "    }\n",
       "\n",
       "    .dataframe thead th {\n",
       "        text-align: right;\n",
       "    }\n",
       "</style>\n",
       "<table border=\"1\" class=\"dataframe\">\n",
       "  <thead>\n",
       "    <tr style=\"text-align: right;\">\n",
       "      <th></th>\n",
       "      <th>Fuel_consumption</th>\n",
       "      <th>Accelerator_Pedal_value</th>\n",
       "      <th>Throttle_position_signal</th>\n",
       "      <th>Short_Term_Fuel_Trim_Bank1</th>\n",
       "      <th>Intake_air_pressure</th>\n",
       "      <th>Filtered_Accelerator_Pedal_value</th>\n",
       "      <th>Absolute_throttle_position</th>\n",
       "      <th>Engine_soacking_time</th>\n",
       "      <th>Inhibition_of_engine_fuel_cut_off</th>\n",
       "      <th>Engine_in_fuel_cut_off</th>\n",
       "      <th>...</th>\n",
       "      <th>Acceleration_speed_-_Longitudinal</th>\n",
       "      <th>Indication_of_brake_switch_ON/OFF</th>\n",
       "      <th>Master_cylinder_pressure</th>\n",
       "      <th>Calculated_road_gradient</th>\n",
       "      <th>Acceleration_speed_-_Lateral</th>\n",
       "      <th>Steering_wheel_speed</th>\n",
       "      <th>Steering_wheel_angle</th>\n",
       "      <th>Time(s)</th>\n",
       "      <th>Class</th>\n",
       "      <th>PathOrder</th>\n",
       "    </tr>\n",
       "  </thead>\n",
       "  <tbody>\n",
       "    <tr>\n",
       "      <th>0</th>\n",
       "      <td>268.8</td>\n",
       "      <td>0.0</td>\n",
       "      <td>5.2</td>\n",
       "      <td>0.0</td>\n",
       "      <td>33</td>\n",
       "      <td>0</td>\n",
       "      <td>13.3</td>\n",
       "      <td>3</td>\n",
       "      <td>0</td>\n",
       "      <td>0</td>\n",
       "      <td>...</td>\n",
       "      <td>-8.5</td>\n",
       "      <td>1</td>\n",
       "      <td>325.5</td>\n",
       "      <td>0.0</td>\n",
       "      <td>-8.8</td>\n",
       "      <td>0</td>\n",
       "      <td>-3.4</td>\n",
       "      <td>1</td>\n",
       "      <td>A</td>\n",
       "      <td>1</td>\n",
       "    </tr>\n",
       "    <tr>\n",
       "      <th>1</th>\n",
       "      <td>243.2</td>\n",
       "      <td>0.0</td>\n",
       "      <td>6.1</td>\n",
       "      <td>0.0</td>\n",
       "      <td>40</td>\n",
       "      <td>0</td>\n",
       "      <td>13.7</td>\n",
       "      <td>3</td>\n",
       "      <td>0</td>\n",
       "      <td>0</td>\n",
       "      <td>...</td>\n",
       "      <td>0.1</td>\n",
       "      <td>1</td>\n",
       "      <td>0.9</td>\n",
       "      <td>0.0</td>\n",
       "      <td>-0.2</td>\n",
       "      <td>0</td>\n",
       "      <td>-3.6</td>\n",
       "      <td>2</td>\n",
       "      <td>A</td>\n",
       "      <td>1</td>\n",
       "    </tr>\n",
       "    <tr>\n",
       "      <th>2</th>\n",
       "      <td>217.6</td>\n",
       "      <td>0.0</td>\n",
       "      <td>5.2</td>\n",
       "      <td>0.0</td>\n",
       "      <td>41</td>\n",
       "      <td>0</td>\n",
       "      <td>13.7</td>\n",
       "      <td>3</td>\n",
       "      <td>0</td>\n",
       "      <td>0</td>\n",
       "      <td>...</td>\n",
       "      <td>0.1</td>\n",
       "      <td>1</td>\n",
       "      <td>0.9</td>\n",
       "      <td>0.0</td>\n",
       "      <td>-0.2</td>\n",
       "      <td>0</td>\n",
       "      <td>-3.6</td>\n",
       "      <td>3</td>\n",
       "      <td>A</td>\n",
       "      <td>1</td>\n",
       "    </tr>\n",
       "    <tr>\n",
       "      <th>3</th>\n",
       "      <td>204.8</td>\n",
       "      <td>0.0</td>\n",
       "      <td>4.7</td>\n",
       "      <td>0.0</td>\n",
       "      <td>38</td>\n",
       "      <td>0</td>\n",
       "      <td>13.3</td>\n",
       "      <td>3</td>\n",
       "      <td>0</td>\n",
       "      <td>0</td>\n",
       "      <td>...</td>\n",
       "      <td>0.1</td>\n",
       "      <td>1</td>\n",
       "      <td>0.9</td>\n",
       "      <td>0.0</td>\n",
       "      <td>-0.2</td>\n",
       "      <td>0</td>\n",
       "      <td>-3.6</td>\n",
       "      <td>4</td>\n",
       "      <td>A</td>\n",
       "      <td>1</td>\n",
       "    </tr>\n",
       "    <tr>\n",
       "      <th>4</th>\n",
       "      <td>217.6</td>\n",
       "      <td>0.0</td>\n",
       "      <td>5.7</td>\n",
       "      <td>0.0</td>\n",
       "      <td>40</td>\n",
       "      <td>0</td>\n",
       "      <td>13.7</td>\n",
       "      <td>3</td>\n",
       "      <td>0</td>\n",
       "      <td>0</td>\n",
       "      <td>...</td>\n",
       "      <td>0.1</td>\n",
       "      <td>1</td>\n",
       "      <td>0.9</td>\n",
       "      <td>0.0</td>\n",
       "      <td>-0.2</td>\n",
       "      <td>0</td>\n",
       "      <td>-3.5</td>\n",
       "      <td>5</td>\n",
       "      <td>A</td>\n",
       "      <td>1</td>\n",
       "    </tr>\n",
       "    <tr>\n",
       "      <th>5</th>\n",
       "      <td>243.2</td>\n",
       "      <td>0.0</td>\n",
       "      <td>5.7</td>\n",
       "      <td>0.0</td>\n",
       "      <td>41</td>\n",
       "      <td>0</td>\n",
       "      <td>13.7</td>\n",
       "      <td>3</td>\n",
       "      <td>0</td>\n",
       "      <td>0</td>\n",
       "      <td>...</td>\n",
       "      <td>0.0</td>\n",
       "      <td>2</td>\n",
       "      <td>36.7</td>\n",
       "      <td>0.0</td>\n",
       "      <td>-0.2</td>\n",
       "      <td>0</td>\n",
       "      <td>-3.4</td>\n",
       "      <td>6</td>\n",
       "      <td>A</td>\n",
       "      <td>1</td>\n",
       "    </tr>\n",
       "    <tr>\n",
       "      <th>6</th>\n",
       "      <td>217.6</td>\n",
       "      <td>0.0</td>\n",
       "      <td>5.7</td>\n",
       "      <td>0.0</td>\n",
       "      <td>42</td>\n",
       "      <td>0</td>\n",
       "      <td>13.7</td>\n",
       "      <td>3</td>\n",
       "      <td>0</td>\n",
       "      <td>0</td>\n",
       "      <td>...</td>\n",
       "      <td>0.0</td>\n",
       "      <td>2</td>\n",
       "      <td>61.8</td>\n",
       "      <td>0.0</td>\n",
       "      <td>-0.2</td>\n",
       "      <td>0</td>\n",
       "      <td>-3.6</td>\n",
       "      <td>7</td>\n",
       "      <td>A</td>\n",
       "      <td>1</td>\n",
       "    </tr>\n",
       "    <tr>\n",
       "      <th>7</th>\n",
       "      <td>294.4</td>\n",
       "      <td>0.0</td>\n",
       "      <td>6.6</td>\n",
       "      <td>0.0</td>\n",
       "      <td>52</td>\n",
       "      <td>0</td>\n",
       "      <td>14.5</td>\n",
       "      <td>3</td>\n",
       "      <td>0</td>\n",
       "      <td>0</td>\n",
       "      <td>...</td>\n",
       "      <td>0.0</td>\n",
       "      <td>2</td>\n",
       "      <td>38.9</td>\n",
       "      <td>0.0</td>\n",
       "      <td>-0.2</td>\n",
       "      <td>0</td>\n",
       "      <td>-1.6</td>\n",
       "      <td>8</td>\n",
       "      <td>A</td>\n",
       "      <td>1</td>\n",
       "    </tr>\n",
       "    <tr>\n",
       "      <th>8</th>\n",
       "      <td>332.8</td>\n",
       "      <td>0.0</td>\n",
       "      <td>7.1</td>\n",
       "      <td>0.0</td>\n",
       "      <td>60</td>\n",
       "      <td>0</td>\n",
       "      <td>14.5</td>\n",
       "      <td>3</td>\n",
       "      <td>0</td>\n",
       "      <td>0</td>\n",
       "      <td>...</td>\n",
       "      <td>0.0</td>\n",
       "      <td>2</td>\n",
       "      <td>12.5</td>\n",
       "      <td>0.0</td>\n",
       "      <td>-0.2</td>\n",
       "      <td>8</td>\n",
       "      <td>7.9</td>\n",
       "      <td>9</td>\n",
       "      <td>A</td>\n",
       "      <td>1</td>\n",
       "    </tr>\n",
       "    <tr>\n",
       "      <th>9</th>\n",
       "      <td>358.4</td>\n",
       "      <td>0.0</td>\n",
       "      <td>7.1</td>\n",
       "      <td>0.8</td>\n",
       "      <td>65</td>\n",
       "      <td>0</td>\n",
       "      <td>14.9</td>\n",
       "      <td>3</td>\n",
       "      <td>0</td>\n",
       "      <td>0</td>\n",
       "      <td>...</td>\n",
       "      <td>-0.1</td>\n",
       "      <td>2</td>\n",
       "      <td>1.8</td>\n",
       "      <td>0.0</td>\n",
       "      <td>-0.2</td>\n",
       "      <td>0</td>\n",
       "      <td>7.7</td>\n",
       "      <td>10</td>\n",
       "      <td>A</td>\n",
       "      <td>1</td>\n",
       "    </tr>\n",
       "  </tbody>\n",
       "</table>\n",
       "<p>10 rows × 54 columns</p>\n",
       "</div>"
      ],
      "text/plain": [
       "   Fuel_consumption  Accelerator_Pedal_value  Throttle_position_signal  \\\n",
       "0             268.8                      0.0                       5.2   \n",
       "1             243.2                      0.0                       6.1   \n",
       "2             217.6                      0.0                       5.2   \n",
       "3             204.8                      0.0                       4.7   \n",
       "4             217.6                      0.0                       5.7   \n",
       "5             243.2                      0.0                       5.7   \n",
       "6             217.6                      0.0                       5.7   \n",
       "7             294.4                      0.0                       6.6   \n",
       "8             332.8                      0.0                       7.1   \n",
       "9             358.4                      0.0                       7.1   \n",
       "\n",
       "   Short_Term_Fuel_Trim_Bank1  Intake_air_pressure  \\\n",
       "0                         0.0                   33   \n",
       "1                         0.0                   40   \n",
       "2                         0.0                   41   \n",
       "3                         0.0                   38   \n",
       "4                         0.0                   40   \n",
       "5                         0.0                   41   \n",
       "6                         0.0                   42   \n",
       "7                         0.0                   52   \n",
       "8                         0.0                   60   \n",
       "9                         0.8                   65   \n",
       "\n",
       "   Filtered_Accelerator_Pedal_value  Absolute_throttle_position  \\\n",
       "0                                 0                        13.3   \n",
       "1                                 0                        13.7   \n",
       "2                                 0                        13.7   \n",
       "3                                 0                        13.3   \n",
       "4                                 0                        13.7   \n",
       "5                                 0                        13.7   \n",
       "6                                 0                        13.7   \n",
       "7                                 0                        14.5   \n",
       "8                                 0                        14.5   \n",
       "9                                 0                        14.9   \n",
       "\n",
       "   Engine_soacking_time  Inhibition_of_engine_fuel_cut_off  \\\n",
       "0                     3                                  0   \n",
       "1                     3                                  0   \n",
       "2                     3                                  0   \n",
       "3                     3                                  0   \n",
       "4                     3                                  0   \n",
       "5                     3                                  0   \n",
       "6                     3                                  0   \n",
       "7                     3                                  0   \n",
       "8                     3                                  0   \n",
       "9                     3                                  0   \n",
       "\n",
       "   Engine_in_fuel_cut_off  ...  Acceleration_speed_-_Longitudinal  \\\n",
       "0                       0  ...                               -8.5   \n",
       "1                       0  ...                                0.1   \n",
       "2                       0  ...                                0.1   \n",
       "3                       0  ...                                0.1   \n",
       "4                       0  ...                                0.1   \n",
       "5                       0  ...                                0.0   \n",
       "6                       0  ...                                0.0   \n",
       "7                       0  ...                                0.0   \n",
       "8                       0  ...                                0.0   \n",
       "9                       0  ...                               -0.1   \n",
       "\n",
       "   Indication_of_brake_switch_ON/OFF  Master_cylinder_pressure  \\\n",
       "0                                  1                     325.5   \n",
       "1                                  1                       0.9   \n",
       "2                                  1                       0.9   \n",
       "3                                  1                       0.9   \n",
       "4                                  1                       0.9   \n",
       "5                                  2                      36.7   \n",
       "6                                  2                      61.8   \n",
       "7                                  2                      38.9   \n",
       "8                                  2                      12.5   \n",
       "9                                  2                       1.8   \n",
       "\n",
       "   Calculated_road_gradient  Acceleration_speed_-_Lateral  \\\n",
       "0                       0.0                          -8.8   \n",
       "1                       0.0                          -0.2   \n",
       "2                       0.0                          -0.2   \n",
       "3                       0.0                          -0.2   \n",
       "4                       0.0                          -0.2   \n",
       "5                       0.0                          -0.2   \n",
       "6                       0.0                          -0.2   \n",
       "7                       0.0                          -0.2   \n",
       "8                       0.0                          -0.2   \n",
       "9                       0.0                          -0.2   \n",
       "\n",
       "   Steering_wheel_speed  Steering_wheel_angle  Time(s)  Class  PathOrder  \n",
       "0                     0                  -3.4        1      A          1  \n",
       "1                     0                  -3.6        2      A          1  \n",
       "2                     0                  -3.6        3      A          1  \n",
       "3                     0                  -3.6        4      A          1  \n",
       "4                     0                  -3.5        5      A          1  \n",
       "5                     0                  -3.4        6      A          1  \n",
       "6                     0                  -3.6        7      A          1  \n",
       "7                     0                  -1.6        8      A          1  \n",
       "8                     8                   7.9        9      A          1  \n",
       "9                     0                   7.7       10      A          1  \n",
       "\n",
       "[10 rows x 54 columns]"
      ]
     },
     "execution_count": 3,
     "metadata": {},
     "output_type": "execute_result"
    }
   ],
   "source": [
    "df.head(10)"
   ]
  },
  {
   "cell_type": "code",
   "execution_count": 4,
   "id": "35a33738",
   "metadata": {},
   "outputs": [
    {
     "data": {
      "text/plain": [
       "0         1\n",
       "1         2\n",
       "2         3\n",
       "3         4\n",
       "4         5\n",
       "       ... \n",
       "995     996\n",
       "996     997\n",
       "997     998\n",
       "998     999\n",
       "999    1000\n",
       "Name: Time(s), Length: 1000, dtype: int64"
      ]
     },
     "execution_count": 4,
     "metadata": {},
     "output_type": "execute_result"
    }
   ],
   "source": [
    "df[\"Time(s)\"][:1000]"
   ]
  },
  {
   "cell_type": "markdown",
   "id": "6a4dbf77",
   "metadata": {},
   "source": [
    "### Data Exploration"
   ]
  },
  {
   "cell_type": "code",
   "execution_count": 5,
   "id": "5df0b019",
   "metadata": {},
   "outputs": [
    {
     "name": "stdout",
     "output_type": "stream",
     "text": [
      "<class 'pandas.core.frame.DataFrame'>\n",
      "RangeIndex: 94380 entries, 0 to 94379\n",
      "Data columns (total 54 columns):\n",
      " #   Column                                        Non-Null Count  Dtype  \n",
      "---  ------                                        --------------  -----  \n",
      " 0   Fuel_consumption                              94380 non-null  float64\n",
      " 1   Accelerator_Pedal_value                       94380 non-null  float64\n",
      " 2   Throttle_position_signal                      94380 non-null  float64\n",
      " 3   Short_Term_Fuel_Trim_Bank1                    94380 non-null  float64\n",
      " 4   Intake_air_pressure                           94380 non-null  int64  \n",
      " 5   Filtered_Accelerator_Pedal_value              94380 non-null  int64  \n",
      " 6   Absolute_throttle_position                    94380 non-null  float64\n",
      " 7   Engine_soacking_time                          94380 non-null  int64  \n",
      " 8   Inhibition_of_engine_fuel_cut_off             94380 non-null  int64  \n",
      " 9   Engine_in_fuel_cut_off                        94380 non-null  int64  \n",
      " 10  Fuel_Pressure                                 94380 non-null  int64  \n",
      " 11  Long_Term_Fuel_Trim_Bank1                     94380 non-null  float64\n",
      " 12  Engine_speed                                  94380 non-null  int64  \n",
      " 13  Engine_torque_after_correction                94380 non-null  float64\n",
      " 14  Torque_of_friction                            94380 non-null  float64\n",
      " 15  Flywheel_torque_(after_torque_interventions)  94380 non-null  float64\n",
      " 16  Current_spark_timing                          94380 non-null  float64\n",
      " 17  Engine_coolant_temperature                    94380 non-null  int64  \n",
      " 18  Engine_Idel_Target_Speed                      94380 non-null  int64  \n",
      " 19  Engine_torque                                 94380 non-null  float64\n",
      " 20  Calculated_LOAD_value                         94380 non-null  float64\n",
      " 21  Minimum_indicated_engine_torque               94380 non-null  float64\n",
      " 22  Maximum_indicated_engine_torque               94380 non-null  float64\n",
      " 23  Flywheel_torque                               94380 non-null  float64\n",
      " 24  Torque_scaling_factor(standardization)        94380 non-null  int64  \n",
      " 25  Standard_Torque_Ratio                         94380 non-null  int64  \n",
      " 26  Requested_spark_retard_angle_from_TCU         94380 non-null  int64  \n",
      " 27  TCU_requests_engine_torque_limit_(ETL)        94380 non-null  int64  \n",
      " 28  TCU_requested_engine_RPM_increase             94380 non-null  float64\n",
      " 29  Target_engine_speed_used_in_lock-up_module    94380 non-null  int64  \n",
      " 30  Glow_plug_control_request                     94380 non-null  int64  \n",
      " 31  Activation_of_Air_compressor                  94380 non-null  int64  \n",
      " 32  Torque_converter_speed                        94380 non-null  float64\n",
      " 33  Current_Gear                                  94380 non-null  int64  \n",
      " 34  Engine_coolant_temperature.1                  94380 non-null  int64  \n",
      " 35  Wheel_velocity_front_left-hand                94380 non-null  float64\n",
      " 36  Wheel_velocity_rear_right-hand                94380 non-null  float64\n",
      " 37  Wheel_velocity_front_right-hand               94380 non-null  float64\n",
      " 38  Wheel_velocity_rear_left-hand                 94380 non-null  float64\n",
      " 39  Torque_converter_turbine_speed_-_Unfiltered   94380 non-null  float64\n",
      " 40  Clutch_operation_acknowledge                  94380 non-null  int64  \n",
      " 41  Converter_clutch                              94380 non-null  int64  \n",
      " 42  Gear_Selection                                94380 non-null  int64  \n",
      " 43  Vehicle_speed                                 94380 non-null  int64  \n",
      " 44  Acceleration_speed_-_Longitudinal             94380 non-null  float64\n",
      " 45  Indication_of_brake_switch_ON/OFF             94380 non-null  int64  \n",
      " 46  Master_cylinder_pressure                      94380 non-null  float64\n",
      " 47  Calculated_road_gradient                      94380 non-null  float64\n",
      " 48  Acceleration_speed_-_Lateral                  94380 non-null  float64\n",
      " 49  Steering_wheel_speed                          94380 non-null  int64  \n",
      " 50  Steering_wheel_angle                          94380 non-null  float64\n",
      " 51  Time(s)                                       94380 non-null  int64  \n",
      " 52  Class                                         94380 non-null  object \n",
      " 53  PathOrder                                     94380 non-null  int64  \n",
      "dtypes: float64(27), int64(26), object(1)\n",
      "memory usage: 38.9+ MB\n"
     ]
    }
   ],
   "source": [
    "df.info()"
   ]
  },
  {
   "cell_type": "code",
   "execution_count": 6,
   "id": "4608fdb7",
   "metadata": {},
   "outputs": [
    {
     "data": {
      "text/html": [
       "<div>\n",
       "<style scoped>\n",
       "    .dataframe tbody tr th:only-of-type {\n",
       "        vertical-align: middle;\n",
       "    }\n",
       "\n",
       "    .dataframe tbody tr th {\n",
       "        vertical-align: top;\n",
       "    }\n",
       "\n",
       "    .dataframe thead th {\n",
       "        text-align: right;\n",
       "    }\n",
       "</style>\n",
       "<table border=\"1\" class=\"dataframe\">\n",
       "  <thead>\n",
       "    <tr style=\"text-align: right;\">\n",
       "      <th></th>\n",
       "      <th>Fuel_consumption</th>\n",
       "      <th>Accelerator_Pedal_value</th>\n",
       "      <th>Throttle_position_signal</th>\n",
       "      <th>Short_Term_Fuel_Trim_Bank1</th>\n",
       "      <th>Intake_air_pressure</th>\n",
       "      <th>Filtered_Accelerator_Pedal_value</th>\n",
       "      <th>Absolute_throttle_position</th>\n",
       "      <th>Engine_soacking_time</th>\n",
       "      <th>Inhibition_of_engine_fuel_cut_off</th>\n",
       "      <th>Engine_in_fuel_cut_off</th>\n",
       "      <th>...</th>\n",
       "      <th>Vehicle_speed</th>\n",
       "      <th>Acceleration_speed_-_Longitudinal</th>\n",
       "      <th>Indication_of_brake_switch_ON/OFF</th>\n",
       "      <th>Master_cylinder_pressure</th>\n",
       "      <th>Calculated_road_gradient</th>\n",
       "      <th>Acceleration_speed_-_Lateral</th>\n",
       "      <th>Steering_wheel_speed</th>\n",
       "      <th>Steering_wheel_angle</th>\n",
       "      <th>Time(s)</th>\n",
       "      <th>PathOrder</th>\n",
       "    </tr>\n",
       "  </thead>\n",
       "  <tbody>\n",
       "    <tr>\n",
       "      <th>count</th>\n",
       "      <td>94380.000000</td>\n",
       "      <td>94380.000000</td>\n",
       "      <td>94380.000000</td>\n",
       "      <td>94380.000000</td>\n",
       "      <td>94380.000000</td>\n",
       "      <td>94380.0</td>\n",
       "      <td>94380.000000</td>\n",
       "      <td>94380.000000</td>\n",
       "      <td>94380.0</td>\n",
       "      <td>94380.000000</td>\n",
       "      <td>...</td>\n",
       "      <td>94380.000000</td>\n",
       "      <td>94380.000000</td>\n",
       "      <td>94380.000000</td>\n",
       "      <td>94380.000000</td>\n",
       "      <td>94380.000000</td>\n",
       "      <td>94380.000000</td>\n",
       "      <td>94380.000000</td>\n",
       "      <td>94380.000000</td>\n",
       "      <td>94380.000000</td>\n",
       "      <td>94380.000000</td>\n",
       "    </tr>\n",
       "    <tr>\n",
       "      <th>mean</th>\n",
       "      <td>757.000246</td>\n",
       "      <td>3.718682</td>\n",
       "      <td>13.208186</td>\n",
       "      <td>0.122782</td>\n",
       "      <td>36.853433</td>\n",
       "      <td>0.0</td>\n",
       "      <td>19.362277</td>\n",
       "      <td>26.795327</td>\n",
       "      <td>0.0</td>\n",
       "      <td>0.067249</td>\n",
       "      <td>...</td>\n",
       "      <td>28.518881</td>\n",
       "      <td>-0.076198</td>\n",
       "      <td>1.356294</td>\n",
       "      <td>5.686715</td>\n",
       "      <td>0.300419</td>\n",
       "      <td>-0.007616</td>\n",
       "      <td>6.362407</td>\n",
       "      <td>0.773593</td>\n",
       "      <td>1110.031765</td>\n",
       "      <td>1.513583</td>\n",
       "    </tr>\n",
       "    <tr>\n",
       "      <th>std</th>\n",
       "      <td>761.376214</td>\n",
       "      <td>8.505756</td>\n",
       "      <td>16.262249</td>\n",
       "      <td>3.166412</td>\n",
       "      <td>27.957584</td>\n",
       "      <td>0.0</td>\n",
       "      <td>12.079046</td>\n",
       "      <td>73.072712</td>\n",
       "      <td>0.0</td>\n",
       "      <td>0.250455</td>\n",
       "      <td>...</td>\n",
       "      <td>25.309664</td>\n",
       "      <td>0.593006</td>\n",
       "      <td>0.479017</td>\n",
       "      <td>9.904240</td>\n",
       "      <td>2.210411</td>\n",
       "      <td>0.417956</td>\n",
       "      <td>26.467043</td>\n",
       "      <td>60.815388</td>\n",
       "      <td>683.042550</td>\n",
       "      <td>0.499818</td>\n",
       "    </tr>\n",
       "    <tr>\n",
       "      <th>min</th>\n",
       "      <td>0.000000</td>\n",
       "      <td>0.000000</td>\n",
       "      <td>0.000000</td>\n",
       "      <td>-15.600000</td>\n",
       "      <td>0.000000</td>\n",
       "      <td>0.0</td>\n",
       "      <td>12.500000</td>\n",
       "      <td>0.000000</td>\n",
       "      <td>0.0</td>\n",
       "      <td>0.000000</td>\n",
       "      <td>...</td>\n",
       "      <td>0.000000</td>\n",
       "      <td>-10.200000</td>\n",
       "      <td>0.000000</td>\n",
       "      <td>0.000000</td>\n",
       "      <td>-16.000000</td>\n",
       "      <td>-10.200000</td>\n",
       "      <td>0.000000</td>\n",
       "      <td>-516.800000</td>\n",
       "      <td>1.000000</td>\n",
       "      <td>1.000000</td>\n",
       "    </tr>\n",
       "    <tr>\n",
       "      <th>25%</th>\n",
       "      <td>320.000000</td>\n",
       "      <td>0.000000</td>\n",
       "      <td>6.600000</td>\n",
       "      <td>-1.600000</td>\n",
       "      <td>4.000000</td>\n",
       "      <td>0.0</td>\n",
       "      <td>14.500000</td>\n",
       "      <td>1.000000</td>\n",
       "      <td>0.0</td>\n",
       "      <td>0.000000</td>\n",
       "      <td>...</td>\n",
       "      <td>4.000000</td>\n",
       "      <td>-0.300000</td>\n",
       "      <td>1.000000</td>\n",
       "      <td>1.000000</td>\n",
       "      <td>0.000000</td>\n",
       "      <td>-0.100000</td>\n",
       "      <td>0.000000</td>\n",
       "      <td>-2.600000</td>\n",
       "      <td>537.000000</td>\n",
       "      <td>1.000000</td>\n",
       "    </tr>\n",
       "    <tr>\n",
       "      <th>50%</th>\n",
       "      <td>422.400000</td>\n",
       "      <td>0.000000</td>\n",
       "      <td>7.500000</td>\n",
       "      <td>0.000000</td>\n",
       "      <td>38.000000</td>\n",
       "      <td>0.0</td>\n",
       "      <td>15.300000</td>\n",
       "      <td>3.000000</td>\n",
       "      <td>0.0</td>\n",
       "      <td>0.000000</td>\n",
       "      <td>...</td>\n",
       "      <td>23.000000</td>\n",
       "      <td>-0.100000</td>\n",
       "      <td>1.000000</td>\n",
       "      <td>1.100000</td>\n",
       "      <td>0.000000</td>\n",
       "      <td>0.000000</td>\n",
       "      <td>0.000000</td>\n",
       "      <td>0.800000</td>\n",
       "      <td>1073.000000</td>\n",
       "      <td>2.000000</td>\n",
       "    </tr>\n",
       "    <tr>\n",
       "      <th>75%</th>\n",
       "      <td>1036.800000</td>\n",
       "      <td>0.000000</td>\n",
       "      <td>12.700000</td>\n",
       "      <td>1.600000</td>\n",
       "      <td>57.000000</td>\n",
       "      <td>0.0</td>\n",
       "      <td>19.200000</td>\n",
       "      <td>6.000000</td>\n",
       "      <td>0.0</td>\n",
       "      <td>0.000000</td>\n",
       "      <td>...</td>\n",
       "      <td>51.000000</td>\n",
       "      <td>0.200000</td>\n",
       "      <td>2.000000</td>\n",
       "      <td>5.900000</td>\n",
       "      <td>0.500000</td>\n",
       "      <td>0.100000</td>\n",
       "      <td>4.000000</td>\n",
       "      <td>4.000000</td>\n",
       "      <td>1616.000000</td>\n",
       "      <td>2.000000</td>\n",
       "    </tr>\n",
       "    <tr>\n",
       "      <th>max</th>\n",
       "      <td>10931.200000</td>\n",
       "      <td>99.200000</td>\n",
       "      <td>100.000000</td>\n",
       "      <td>23.400000</td>\n",
       "      <td>178.000000</td>\n",
       "      <td>0.0</td>\n",
       "      <td>84.300000</td>\n",
       "      <td>255.000000</td>\n",
       "      <td>0.0</td>\n",
       "      <td>1.000000</td>\n",
       "      <td>...</td>\n",
       "      <td>129.000000</td>\n",
       "      <td>8.100000</td>\n",
       "      <td>2.000000</td>\n",
       "      <td>395.900000</td>\n",
       "      <td>15.500000</td>\n",
       "      <td>8.100000</td>\n",
       "      <td>632.000000</td>\n",
       "      <td>530.300000</td>\n",
       "      <td>2948.000000</td>\n",
       "      <td>2.000000</td>\n",
       "    </tr>\n",
       "  </tbody>\n",
       "</table>\n",
       "<p>8 rows × 53 columns</p>\n",
       "</div>"
      ],
      "text/plain": [
       "       Fuel_consumption  Accelerator_Pedal_value  Throttle_position_signal  \\\n",
       "count      94380.000000             94380.000000              94380.000000   \n",
       "mean         757.000246                 3.718682                 13.208186   \n",
       "std          761.376214                 8.505756                 16.262249   \n",
       "min            0.000000                 0.000000                  0.000000   \n",
       "25%          320.000000                 0.000000                  6.600000   \n",
       "50%          422.400000                 0.000000                  7.500000   \n",
       "75%         1036.800000                 0.000000                 12.700000   \n",
       "max        10931.200000                99.200000                100.000000   \n",
       "\n",
       "       Short_Term_Fuel_Trim_Bank1  Intake_air_pressure  \\\n",
       "count                94380.000000         94380.000000   \n",
       "mean                     0.122782            36.853433   \n",
       "std                      3.166412            27.957584   \n",
       "min                    -15.600000             0.000000   \n",
       "25%                     -1.600000             4.000000   \n",
       "50%                      0.000000            38.000000   \n",
       "75%                      1.600000            57.000000   \n",
       "max                     23.400000           178.000000   \n",
       "\n",
       "       Filtered_Accelerator_Pedal_value  Absolute_throttle_position  \\\n",
       "count                           94380.0                94380.000000   \n",
       "mean                                0.0                   19.362277   \n",
       "std                                 0.0                   12.079046   \n",
       "min                                 0.0                   12.500000   \n",
       "25%                                 0.0                   14.500000   \n",
       "50%                                 0.0                   15.300000   \n",
       "75%                                 0.0                   19.200000   \n",
       "max                                 0.0                   84.300000   \n",
       "\n",
       "       Engine_soacking_time  Inhibition_of_engine_fuel_cut_off  \\\n",
       "count          94380.000000                            94380.0   \n",
       "mean              26.795327                                0.0   \n",
       "std               73.072712                                0.0   \n",
       "min                0.000000                                0.0   \n",
       "25%                1.000000                                0.0   \n",
       "50%                3.000000                                0.0   \n",
       "75%                6.000000                                0.0   \n",
       "max              255.000000                                0.0   \n",
       "\n",
       "       Engine_in_fuel_cut_off  ...  Vehicle_speed  \\\n",
       "count            94380.000000  ...   94380.000000   \n",
       "mean                 0.067249  ...      28.518881   \n",
       "std                  0.250455  ...      25.309664   \n",
       "min                  0.000000  ...       0.000000   \n",
       "25%                  0.000000  ...       4.000000   \n",
       "50%                  0.000000  ...      23.000000   \n",
       "75%                  0.000000  ...      51.000000   \n",
       "max                  1.000000  ...     129.000000   \n",
       "\n",
       "       Acceleration_speed_-_Longitudinal  Indication_of_brake_switch_ON/OFF  \\\n",
       "count                       94380.000000                       94380.000000   \n",
       "mean                           -0.076198                           1.356294   \n",
       "std                             0.593006                           0.479017   \n",
       "min                           -10.200000                           0.000000   \n",
       "25%                            -0.300000                           1.000000   \n",
       "50%                            -0.100000                           1.000000   \n",
       "75%                             0.200000                           2.000000   \n",
       "max                             8.100000                           2.000000   \n",
       "\n",
       "       Master_cylinder_pressure  Calculated_road_gradient  \\\n",
       "count              94380.000000              94380.000000   \n",
       "mean                   5.686715                  0.300419   \n",
       "std                    9.904240                  2.210411   \n",
       "min                    0.000000                -16.000000   \n",
       "25%                    1.000000                  0.000000   \n",
       "50%                    1.100000                  0.000000   \n",
       "75%                    5.900000                  0.500000   \n",
       "max                  395.900000                 15.500000   \n",
       "\n",
       "       Acceleration_speed_-_Lateral  Steering_wheel_speed  \\\n",
       "count                  94380.000000          94380.000000   \n",
       "mean                      -0.007616              6.362407   \n",
       "std                        0.417956             26.467043   \n",
       "min                      -10.200000              0.000000   \n",
       "25%                       -0.100000              0.000000   \n",
       "50%                        0.000000              0.000000   \n",
       "75%                        0.100000              4.000000   \n",
       "max                        8.100000            632.000000   \n",
       "\n",
       "       Steering_wheel_angle       Time(s)     PathOrder  \n",
       "count          94380.000000  94380.000000  94380.000000  \n",
       "mean               0.773593   1110.031765      1.513583  \n",
       "std               60.815388    683.042550      0.499818  \n",
       "min             -516.800000      1.000000      1.000000  \n",
       "25%               -2.600000    537.000000      1.000000  \n",
       "50%                0.800000   1073.000000      2.000000  \n",
       "75%                4.000000   1616.000000      2.000000  \n",
       "max              530.300000   2948.000000      2.000000  \n",
       "\n",
       "[8 rows x 53 columns]"
      ]
     },
     "execution_count": 6,
     "metadata": {},
     "output_type": "execute_result"
    }
   ],
   "source": [
    "df.describe()"
   ]
  },
  {
   "cell_type": "code",
   "execution_count": 7,
   "id": "b220a096",
   "metadata": {},
   "outputs": [
    {
     "data": {
      "text/plain": [
       "1073.0"
      ]
     },
     "execution_count": 7,
     "metadata": {},
     "output_type": "execute_result"
    }
   ],
   "source": [
    "df[\"Time(s)\"].median()"
   ]
  },
  {
   "cell_type": "code",
   "execution_count": 8,
   "id": "58adcbf1",
   "metadata": {},
   "outputs": [
    {
     "data": {
      "text/plain": [
       "Fuel_consumption                                0\n",
       "Accelerator_Pedal_value                         0\n",
       "Throttle_position_signal                        0\n",
       "Short_Term_Fuel_Trim_Bank1                      0\n",
       "Intake_air_pressure                             0\n",
       "Filtered_Accelerator_Pedal_value                0\n",
       "Absolute_throttle_position                      0\n",
       "Engine_soacking_time                            0\n",
       "Inhibition_of_engine_fuel_cut_off               0\n",
       "Engine_in_fuel_cut_off                          0\n",
       "Fuel_Pressure                                   0\n",
       "Long_Term_Fuel_Trim_Bank1                       0\n",
       "Engine_speed                                    0\n",
       "Engine_torque_after_correction                  0\n",
       "Torque_of_friction                              0\n",
       "Flywheel_torque_(after_torque_interventions)    0\n",
       "Current_spark_timing                            0\n",
       "Engine_coolant_temperature                      0\n",
       "Engine_Idel_Target_Speed                        0\n",
       "Engine_torque                                   0\n",
       "Calculated_LOAD_value                           0\n",
       "Minimum_indicated_engine_torque                 0\n",
       "Maximum_indicated_engine_torque                 0\n",
       "Flywheel_torque                                 0\n",
       "Torque_scaling_factor(standardization)          0\n",
       "Standard_Torque_Ratio                           0\n",
       "Requested_spark_retard_angle_from_TCU           0\n",
       "TCU_requests_engine_torque_limit_(ETL)          0\n",
       "TCU_requested_engine_RPM_increase               0\n",
       "Target_engine_speed_used_in_lock-up_module      0\n",
       "Glow_plug_control_request                       0\n",
       "Activation_of_Air_compressor                    0\n",
       "Torque_converter_speed                          0\n",
       "Current_Gear                                    0\n",
       "Engine_coolant_temperature.1                    0\n",
       "Wheel_velocity_front_left-hand                  0\n",
       "Wheel_velocity_rear_right-hand                  0\n",
       "Wheel_velocity_front_right-hand                 0\n",
       "Wheel_velocity_rear_left-hand                   0\n",
       "Torque_converter_turbine_speed_-_Unfiltered     0\n",
       "Clutch_operation_acknowledge                    0\n",
       "Converter_clutch                                0\n",
       "Gear_Selection                                  0\n",
       "Vehicle_speed                                   0\n",
       "Acceleration_speed_-_Longitudinal               0\n",
       "Indication_of_brake_switch_ON/OFF               0\n",
       "Master_cylinder_pressure                        0\n",
       "Calculated_road_gradient                        0\n",
       "Acceleration_speed_-_Lateral                    0\n",
       "Steering_wheel_speed                            0\n",
       "Steering_wheel_angle                            0\n",
       "Time(s)                                         0\n",
       "Class                                           0\n",
       "PathOrder                                       0\n",
       "dtype: int64"
      ]
     },
     "execution_count": 8,
     "metadata": {},
     "output_type": "execute_result"
    }
   ],
   "source": [
    "# check for missing data\n",
    "df.isna().sum()"
   ]
  },
  {
   "cell_type": "code",
   "execution_count": 9,
   "id": "9b11e261",
   "metadata": {},
   "outputs": [
    {
     "data": {
      "text/plain": [
       "Class\n",
       "D    13244\n",
       "B    12864\n",
       "F    11012\n",
       "H     9880\n",
       "J     8904\n",
       "E     8436\n",
       "I     7808\n",
       "C     7500\n",
       "G     7492\n",
       "A     7240\n",
       "Name: count, dtype: int64"
      ]
     },
     "execution_count": 9,
     "metadata": {},
     "output_type": "execute_result"
    }
   ],
   "source": [
    "# check the values of different columns\n",
    "df[\"Class\"].value_counts()"
   ]
  },
  {
   "cell_type": "code",
   "execution_count": 10,
   "id": "06ea267c",
   "metadata": {},
   "outputs": [
    {
     "data": {
      "text/plain": [
       "Time(s)\n",
       "1       44\n",
       "981     44\n",
       "979     44\n",
       "978     44\n",
       "977     44\n",
       "        ..\n",
       "2936     1\n",
       "2935     1\n",
       "2934     1\n",
       "2933     1\n",
       "2948     1\n",
       "Name: count, Length: 2948, dtype: int64"
      ]
     },
     "execution_count": 10,
     "metadata": {},
     "output_type": "execute_result"
    }
   ],
   "source": [
    "df[\"Time(s)\"].value_counts()"
   ]
  },
  {
   "cell_type": "code",
   "execution_count": 11,
   "id": "85dac4cd",
   "metadata": {},
   "outputs": [
    {
     "data": {
      "text/plain": [
       "<Axes: xlabel='Class'>"
      ]
     },
     "execution_count": 11,
     "metadata": {},
     "output_type": "execute_result"
    },
    {
     "data": {
      "image/png": "[encoded data removed]",
      "text/plain": [
       "<Figure size 640x480 with 1 Axes>"
      ]
     },
     "metadata": {},
     "output_type": "display_data"
    }
   ],
   "source": [
    "df[\"Class\"].value_counts().plot(kind=\"bar\")"
   ]
  },
  {
   "cell_type": "markdown",
   "id": "76e99314",
   "metadata": {},
   "source": [
    "## Encode categorical data"
   ]
  },
  {
   "cell_type": "code",
   "execution_count": 12,
   "id": "5ea7207f",
   "metadata": {},
   "outputs": [
    {
     "data": {
      "text/plain": [
       "True"
      ]
     },
     "execution_count": 12,
     "metadata": {},
     "output_type": "execute_result"
    }
   ],
   "source": [
    "pd.api.types.is_object_dtype(df[\"Class\"])"
   ]
  },
  {
   "cell_type": "code",
   "execution_count": 13,
   "id": "ba4d9b78",
   "metadata": {},
   "outputs": [],
   "source": [
    "for label, content in df.items():\n",
    "    if pd.api.types.is_object_dtype(content):\n",
    "        df[label] = content.astype(\"category\").cat.as_ordered()"
   ]
  },
  {
   "cell_type": "code",
   "execution_count": 14,
   "id": "6f2bcbc2",
   "metadata": {},
   "outputs": [
    {
     "name": "stdout",
     "output_type": "stream",
     "text": [
      "<class 'pandas.core.series.Series'>\n",
      "RangeIndex: 94380 entries, 0 to 94379\n",
      "Series name: Class\n",
      "Non-Null Count  Dtype   \n",
      "--------------  -----   \n",
      "94380 non-null  category\n",
      "dtypes: category(1)\n",
      "memory usage: 92.7 KB\n"
     ]
    }
   ],
   "source": [
    "df.Class.info()"
   ]
  },
  {
   "cell_type": "code",
   "execution_count": 15,
   "id": "6d456125",
   "metadata": {},
   "outputs": [
    {
     "data": {
      "text/plain": [
       "Index(['A', 'B', 'C', 'D', 'E', 'F', 'G', 'H', 'I', 'J'], dtype='object')"
      ]
     },
     "execution_count": 15,
     "metadata": {},
     "output_type": "execute_result"
    }
   ],
   "source": [
    "df.Class.cat.categories"
   ]
  },
  {
   "cell_type": "code",
   "execution_count": 16,
   "id": "bc09b556",
   "metadata": {},
   "outputs": [
    {
     "data": {
      "text/plain": [
       "0        0\n",
       "1        0\n",
       "2        0\n",
       "3        0\n",
       "4        0\n",
       "        ..\n",
       "94375    3\n",
       "94376    3\n",
       "94377    3\n",
       "94378    3\n",
       "94379    3\n",
       "Length: 94380, dtype: int8"
      ]
     },
     "execution_count": 16,
     "metadata": {},
     "output_type": "execute_result"
    }
   ],
   "source": [
    "df.Class.cat.codes"
   ]
  },
  {
   "cell_type": "code",
   "execution_count": 17,
   "id": "dc18ada9",
   "metadata": {},
   "outputs": [
    {
     "data": {
      "text/plain": [
       "0    A\n",
       "1    A\n",
       "2    A\n",
       "3    A\n",
       "4    A\n",
       "Name: Class, dtype: category\n",
       "Categories (10, object): ['A' < 'B' < 'C' < 'D' ... 'G' < 'H' < 'I' < 'J']"
      ]
     },
     "execution_count": 17,
     "metadata": {},
     "output_type": "execute_result"
    }
   ],
   "source": [
    "df.Class.head()"
   ]
  },
  {
   "cell_type": "code",
   "execution_count": 18,
   "id": "a9c21a8d",
   "metadata": {},
   "outputs": [],
   "source": [
    "# Convert categorical variables into numbers and fill\n",
    "for label, content in df.items():\n",
    "    if not pd.api.types.is_numeric_dtype(df.Class):\n",
    "        # turn categories into number\n",
    "        df[label] = pd.Categorical(content).codes"
   ]
  },
  {
   "cell_type": "code",
   "execution_count": 19,
   "id": "5e776a9f",
   "metadata": {},
   "outputs": [
    {
     "data": {
      "text/plain": [
       "0    0\n",
       "1    0\n",
       "2    0\n",
       "3    0\n",
       "4    0\n",
       "Name: Class, dtype: int8"
      ]
     },
     "execution_count": 19,
     "metadata": {},
     "output_type": "execute_result"
    }
   ],
   "source": [
    "df.Class.head()"
   ]
  },
  {
   "cell_type": "markdown",
   "id": "19ede264",
   "metadata": {},
   "source": [
    "## Split to Training and Test Sets"
   ]
  },
  {
   "cell_type": "code",
   "execution_count": 20,
   "id": "102c5241",
   "metadata": {},
   "outputs": [],
   "source": [
    "#df_train = df[df[\"Time(s)\"] <= 1073]\n",
    "#df_test = df[df[\"Time(s)\"] > 1073]"
   ]
  },
  {
   "cell_type": "code",
   "execution_count": 21,
   "id": "d6ca5dd2",
   "metadata": {},
   "outputs": [],
   "source": [
    "#len(df_train), len(df_test)"
   ]
  },
  {
   "cell_type": "markdown",
   "id": "58bdc884",
   "metadata": {},
   "source": [
    "## Feature Scaling"
   ]
  },
  {
   "cell_type": "code",
   "execution_count": 22,
   "id": "d7ef1510",
   "metadata": {},
   "outputs": [],
   "source": [
    "from sklearn.preprocessing import StandardScaler\n",
    "sc = StandardScaler()\n",
    "df_train = sc.fit_transform(df.drop(\"Class\", axis=1))\n",
    "#df_test = sc.transform(df_test.drop(\"Class\", axis=1))"
   ]
  },
  {
   "cell_type": "markdown",
   "id": "d2879d33",
   "metadata": {},
   "source": [
    "## Apply PCA\n"
   ]
  },
  {
   "cell_type": "code",
   "execution_count": 23,
   "id": "2c26a51b",
   "metadata": {},
   "outputs": [],
   "source": [
    "from sklearn.decomposition import PCA"
   ]
  },
  {
   "cell_type": "code",
   "execution_count": 24,
   "id": "55924040",
   "metadata": {},
   "outputs": [],
   "source": [
    "pca = PCA(n_components = 2)\n",
    "score_df_train = pca.fit_transform(df_train)\n",
    "#score_df_test = pca.transform(df_test)"
   ]
  },
  {
   "cell_type": "code",
   "execution_count": 25,
   "id": "a6023e07",
   "metadata": {},
   "outputs": [
    {
     "data": {
      "text/plain": [
       "array([[-5.61724711, -1.15156835],\n",
       "       [-3.56880633,  0.73489989],\n",
       "       [-3.68265079,  0.70967254],\n",
       "       ...,\n",
       "       [-4.58149549,  1.07503165],\n",
       "       [-4.56030464,  0.74108488],\n",
       "       [-4.40471391,  0.48181054]])"
      ]
     },
     "execution_count": 25,
     "metadata": {},
     "output_type": "execute_result"
    }
   ],
   "source": [
    "score_df_train # components"
   ]
  },
  {
   "cell_type": "markdown",
   "id": "80c2c3e2",
   "metadata": {},
   "source": [
    "## Clustering"
   ]
  },
  {
   "cell_type": "code",
   "execution_count": 26,
   "id": "9491f3aa",
   "metadata": {},
   "outputs": [],
   "source": [
    "from sklearn.cluster import KMeans"
   ]
  },
  {
   "cell_type": "code",
   "execution_count": 27,
   "id": "c05ab506",
   "metadata": {},
   "outputs": [],
   "source": [
    "kmeans = KMeans(n_clusters = 10, init = 'k-means++', n_init=10, random_state = 42)"
   ]
  },
  {
   "cell_type": "code",
   "execution_count": 28,
   "id": "e7c0be37",
   "metadata": {},
   "outputs": [],
   "source": [
    "df_train_kmeans = kmeans.fit_predict(score_df_train)"
   ]
  },
  {
   "cell_type": "code",
   "execution_count": 29,
   "id": "761a463d",
   "metadata": {},
   "outputs": [
    {
     "data": {
      "text/plain": [
       "array([1, 8, 8, ..., 1, 1, 1], dtype=int32)"
      ]
     },
     "execution_count": 29,
     "metadata": {},
     "output_type": "execute_result"
    }
   ],
   "source": [
    "df_train_kmeans # clusters i.e class A - J"
   ]
  },
  {
   "cell_type": "markdown",
   "id": "4022c8e6",
   "metadata": {},
   "source": [
    "### Visualize the Clusters"
   ]
  },
  {
   "cell_type": "code",
   "execution_count": 34,
   "id": "36f255cd",
   "metadata": {},
   "outputs": [
    {
     "data": {
      "image/png": "[encoded data removed]",
      "text/plain": [
       "<Figure size 640x480 with 1 Axes>"
      ]
     },
     "metadata": {},
     "output_type": "display_data"
    }
   ],
   "source": [
    "# Visualizing by plotting the components for each of the clusters (i.e. classes A - J)\n",
    "plt.scatter(score_df_train[df_train_kmeans == 0, 0], score_df_train[df_train_kmeans == 0, 1], s = 5, c = 'red', label = 'A')\n",
    "plt.scatter(score_df_train[df_train_kmeans == 1, 0], score_df_train[df_train_kmeans == 1, 1], s = 5, c = 'blue', label = 'B')\n",
    "plt.scatter(score_df_train[df_train_kmeans == 2, 0], score_df_train[df_train_kmeans == 2, 1], s = 5, c = 'green', label = 'C')\n",
    "plt.scatter(score_df_train[df_train_kmeans == 3, 0], score_df_train[df_train_kmeans == 3, 1], s = 5, c = 'cyan', label = 'D')\n",
    "plt.scatter(score_df_train[df_train_kmeans == 4, 0], score_df_train[df_train_kmeans == 4, 1], s = 5, c = 'magenta', label = 'E')\n",
    "plt.scatter(score_df_train[df_train_kmeans == 5, 0], score_df_train[df_train_kmeans == 5, 1], s = 5, c = 'pink', label = 'F')\n",
    "plt.scatter(score_df_train[df_train_kmeans == 6, 0], score_df_train[df_train_kmeans == 6, 1], s = 5, c = 'orange', label = 'G')\n",
    "plt.scatter(score_df_train[df_train_kmeans == 7, 0], score_df_train[df_train_kmeans == 7, 1], s = 5, c = 'purple', label = 'H')\n",
    "plt.scatter(score_df_train[df_train_kmeans == 8, 0], score_df_train[df_train_kmeans == 8, 1], s = 5, c = 'yellow', label = 'I')\n",
    "plt.scatter(score_df_train[df_train_kmeans == 9, 0], score_df_train[df_train_kmeans == 9, 1], s = 5, c = 'black', label = 'J')\n",
    "plt.scatter(kmeans.cluster_centers_[:, 0], kmeans.cluster_centers_[:, 1], s = 20, c = 'white', label = 'Centroids')\n",
    "plt.title('Group driving behavior by Classes A - J')\n",
    "plt.ylabel('Component 1')\n",
    "plt.xlabel('Component 2')\n",
    "plt.legend()\n",
    "plt.savefig('visualization.png', bbox_inches='tight') # save the plot\n",
    "plt.show()"
   ]
  },
  {
   "cell_type": "code",
   "execution_count": null,
   "id": "8cc6421f",
   "metadata": {},
   "outputs": [],
   "source": []
  }
 ],
 "metadata": {
  "kernelspec": {
   "display_name": "Python 3 (ipykernel)",
   "language": "python",
   "name": "python3"
  },
  "language_info": {
   "codemirror_mode": {
    "name": "ipython",
    "version": 3
   },
   "file_extension": ".py",
   "mimetype": "text/x-python",
   "name": "python",
   "nbconvert_exporter": "python",
   "pygments_lexer": "ipython3",
   "version": "3.10.13"
  }
 },
 "nbformat": 4,
 "nbformat_minor": 5
}
